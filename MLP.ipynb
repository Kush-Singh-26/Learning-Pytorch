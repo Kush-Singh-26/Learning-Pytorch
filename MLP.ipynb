{
  "nbformat": 4,
  "nbformat_minor": 0,
  "metadata": {
    "colab": {
      "provenance": [],
      "authorship_tag": "ABX9TyPQgfbcxFaPL55sNgIm7nks",
      "include_colab_link": true
    },
    "kernelspec": {
      "name": "python3",
      "display_name": "Python 3"
    },
    "language_info": {
      "name": "python"
    }
  },
  "cells": [
    {
      "cell_type": "markdown",
      "metadata": {
        "id": "view-in-github",
        "colab_type": "text"
      },
      "source": [
        "<a href=\"https://colab.research.google.com/github/Kush-Singh-26/Learning-Pytorch/blob/main/MLP.ipynb\" target=\"_parent\"><img src=\"https://colab.research.google.com/assets/colab-badge.svg\" alt=\"Open In Colab\"/></a>"
      ]
    },
    {
      "cell_type": "code",
      "execution_count": 1,
      "metadata": {
        "id": "N7vkMHRF9es8"
      },
      "outputs": [],
      "source": [
        "import torch\n",
        "import torch.nn as nn\n",
        "import torch.optim as optim\n",
        "import torchvision\n",
        "import torchvision.transforms as transforms\n",
        "import matplotlib.pyplot as plt"
      ]
    },
    {
      "cell_type": "code",
      "source": [
        "transform = transforms.Compose([\n",
        "    transforms.ToTensor(),  # Convert images to PyTorch tensors\n",
        "    transforms.Normalize((0.5,), (0.5,))  # Normalize to range [-1, 1]\n",
        "])"
      ],
      "metadata": {
        "id": "DuQ3OifTAWva"
      },
      "execution_count": 2,
      "outputs": []
    },
    {
      "cell_type": "code",
      "source": [
        "train_dataset = torchvision.datasets.MNIST(\n",
        "    root='./data', train=True, transform=transform, download=True\n",
        ")\n",
        "test_dataset = torchvision.datasets.MNIST(\n",
        "    root='./data', train=False, transform=transform, download=True\n",
        ")\n",
        "\n",
        "train_loader = torch.utils.data.DataLoader(train_dataset, batch_size=64, shuffle=True)\n",
        "test_loader = torch.utils.data.DataLoader(test_dataset, batch_size=64, shuffle=False)"
      ],
      "metadata": {
        "colab": {
          "base_uri": "https://localhost:8080/"
        },
        "id": "gi9XtLHbAbsx",
        "outputId": "8e4e87d4-4c39-4d72-95a5-a9b243b5eb91"
      },
      "execution_count": 3,
      "outputs": [
        {
          "output_type": "stream",
          "name": "stderr",
          "text": [
            "100%|██████████| 9.91M/9.91M [00:00<00:00, 18.4MB/s]\n",
            "100%|██████████| 28.9k/28.9k [00:00<00:00, 491kB/s]\n",
            "100%|██████████| 1.65M/1.65M [00:00<00:00, 3.88MB/s]\n",
            "100%|██████████| 4.54k/4.54k [00:00<00:00, 8.78MB/s]\n"
          ]
        }
      ]
    },
    {
      "cell_type": "code",
      "source": [
        "examples = iter(train_loader) # converts DataLoader into an iterator\n",
        "images, labels = next(examples) # Get the next batch of images and labels\n",
        "\n",
        "for i in range(6):\n",
        "    plt.subplot(2, 3, i+1)  # creates a 2-row, 3-column grid layout for plotting.\n",
        "    plt.imshow(images[i][0], cmap = 'gray')\n",
        "    plt.title(f'Label : {labels[i].item()}')  # extracts the numeric label for the image.\n",
        "    plt.axis('off')     # removes the axis\n",
        "plt.show()"
      ],
      "metadata": {
        "colab": {
          "base_uri": "https://localhost:8080/",
          "height": 406
        },
        "id": "VIfwjkLxAfkD",
        "outputId": "02dce9ad-e50e-4a6b-a129-caf6fdb5a84e"
      },
      "execution_count": 4,
      "outputs": [
        {
          "output_type": "display_data",
          "data": {
            "text/plain": [
              "<Figure size 640x480 with 6 Axes>"
            ],
            "image/png": "[encoded data removed]"
          },
          "metadata": {}
        }
      ]
    },
    {
      "cell_type": "code",
      "source": [
        "class MLP(nn.Module):\n",
        "    def __init__(self, input_size = 28*28, hidden_size1 = 128, hidden_size2 = 64, output_size = 10): # initializes the network architecture.\n",
        "        super().__init__()\n",
        "        self.fc1 = nn.Linear(input_size, hidden_size1) # First hidden layer / Input layer\n",
        "        self.relu1 = nn.ReLU() # activation func. for first layer\n",
        "        self.fc2 = nn.Linear(hidden_size1, hidden_size2) # Second hidden layer\n",
        "        self.relu2 = nn.ReLU() # activation func. for second layer\n",
        "        self.fc3 = nn.Linear(hidden_size2, output_size) # Output layer\n",
        "\n",
        "    def forward(self, x):   #  defines how the input data flows through the network.\n",
        "        x = x.view(x.size(0), -1) # Flatten 28x28 image into 784-dim vector\n",
        "        x = self.relu1(self.fc1(x))\n",
        "        x = self.relu2(self.fc2(x))\n",
        "        x = self.fc3(x)\n",
        "        return x"
      ],
      "metadata": {
        "id": "l4omeGV7AgcD"
      },
      "execution_count": 5,
      "outputs": []
    },
    {
      "cell_type": "code",
      "source": [
        "criterion = nn.CrossEntropyLoss()"
      ],
      "metadata": {
        "id": "irsOaT7JAxe9"
      },
      "execution_count": 6,
      "outputs": []
    },
    {
      "cell_type": "code",
      "source": [
        "device = torch.device(\"cuda\" if torch.cuda.is_available() else \"cpu\")\n",
        "model = MLP().to(device)"
      ],
      "metadata": {
        "id": "xNZbq74dAzOG"
      },
      "execution_count": 7,
      "outputs": []
    },
    {
      "cell_type": "code",
      "source": [
        "optimizer = optim.Adam(model.parameters(), lr=0.001)"
      ],
      "metadata": {
        "id": "VJWWcearA0iX"
      },
      "execution_count": 8,
      "outputs": []
    },
    {
      "cell_type": "code",
      "source": [
        "num_epoch = 20\n",
        "\n",
        "for epoch in range(num_epoch):\n",
        "    for images, labels in train_loader:\n",
        "        images, labels = images.to(device), labels.to(device)\n",
        "\n",
        "        # Forward pass\n",
        "        outputs = model(images)\n",
        "        loss = criterion(outputs, labels)\n",
        "\n",
        "        # Backward pass\n",
        "        optimizer.zero_grad()\n",
        "        loss.backward() # backpropagation\n",
        "        optimizer.step()\n",
        "\n",
        "    print(f\"Epoch [{epoch+1}/{num_epoch}], Loss: {loss.item():.4f}\")"
      ],
      "metadata": {
        "colab": {
          "base_uri": "https://localhost:8080/"
        },
        "id": "6QSQVqfCA1-W",
        "outputId": "c1c742c6-54d3-48d9-fe7d-237ee2caf8e2"
      },
      "execution_count": 9,
      "outputs": [
        {
          "output_type": "stream",
          "name": "stdout",
          "text": [
            "Epoch [1/20], Loss: 0.2281\n",
            "Epoch [2/20], Loss: 0.1154\n",
            "Epoch [3/20], Loss: 0.0731\n",
            "Epoch [4/20], Loss: 0.1626\n",
            "Epoch [5/20], Loss: 0.1766\n",
            "Epoch [6/20], Loss: 0.0198\n",
            "Epoch [7/20], Loss: 0.1343\n",
            "Epoch [8/20], Loss: 0.0200\n",
            "Epoch [9/20], Loss: 0.2630\n",
            "Epoch [10/20], Loss: 0.0630\n",
            "Epoch [11/20], Loss: 0.0860\n",
            "Epoch [12/20], Loss: 0.0511\n",
            "Epoch [13/20], Loss: 0.0213\n",
            "Epoch [14/20], Loss: 0.0059\n",
            "Epoch [15/20], Loss: 0.0439\n",
            "Epoch [16/20], Loss: 0.0097\n",
            "Epoch [17/20], Loss: 0.0158\n",
            "Epoch [18/20], Loss: 0.0010\n",
            "Epoch [19/20], Loss: 0.0029\n",
            "Epoch [20/20], Loss: 0.0232\n"
          ]
        }
      ]
    },
    {
      "cell_type": "code",
      "source": [
        "correct = 0\n",
        "total = 0\n",
        "\n",
        "with torch.no_grad(): # disable gradient computation\n",
        "    for images, labels in test_loader:\n",
        "        images, labels = images.to(device), labels.to(device)\n",
        "        outputs = model(images)\n",
        "\n",
        "        # Get predicted class (highest probability)\n",
        "        _, predicted = torch.max(outputs, 1)\n",
        "        total += labels.size(0)\n",
        "        correct += (predicted == labels).sum().item()\n",
        "\n",
        "print(f'Accuracy: {100 * correct / total:.2f}%')"
      ],
      "metadata": {
        "id": "5Ju7uyGaA39C",
        "colab": {
          "base_uri": "https://localhost:8080/"
        },
        "outputId": "da22380f-8a36-4684-862b-8171fa50fa30"
      },
      "execution_count": 10,
      "outputs": [
        {
          "output_type": "stream",
          "name": "stdout",
          "text": [
            "Accuracy: 97.33%\n"
          ]
        }
      ]
    },
    {
      "cell_type": "code",
      "source": [
        "examples = iter(test_loader)\n",
        "images, labels = next(examples)\n",
        "\n",
        "with torch.no_grad():\n",
        "    outputs = model(images.to(device))\n",
        "_, predictions = torch.max(outputs, 1)\n",
        "\n",
        "# Plot first 6 test images\n",
        "for i in range(6):\n",
        "    plt.subplot(2,3,i+1)\n",
        "    plt.imshow(images[i][0], cmap='gray')\n",
        "    plt.title(f'Pred: {predictions[i].item()} (True: {labels[i].item()})')\n",
        "    plt.axis('off')\n",
        "plt.show()"
      ],
      "metadata": {
        "id": "tjDkkrkVA5tI",
        "colab": {
          "base_uri": "https://localhost:8080/",
          "height": 406
        },
        "outputId": "80e52731-db50-4293-dde0-31e366bb6ad5"
      },
      "execution_count": 11,
      "outputs": [
        {
          "output_type": "display_data",
          "data": {
            "text/plain": [
              "<Figure size 640x480 with 6 Axes>"
            ],
            "image/png": "[encoded data removed]"
          },
          "metadata": {}
        }
      ]
    },
    {
      "cell_type": "code",
      "source": [
        "torch.save(model.state_dict(), \"mnist_mlp.pth\")\n"
      ],
      "metadata": {
        "id": "C-3pGfOZA7ch"
      },
      "execution_count": 12,
      "outputs": []
    },
    {
      "cell_type": "code",
      "source": [],
      "metadata": {
        "id": "SDKIjd49CwnY"
      },
      "execution_count": null,
      "outputs": []
    }
  ]
}